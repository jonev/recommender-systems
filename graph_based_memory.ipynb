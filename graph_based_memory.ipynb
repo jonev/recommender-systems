{
 "cells": [
  {
   "cell_type": "code",
   "execution_count": 4,
   "metadata": {},
   "outputs": [
    {
     "name": "stdout",
     "output_type": "stream",
     "text": [
      "Requirement already satisfied: networkx in /usr/local/lib/python3.9/dist-packages (2.6.3)\n",
      "\u001b[33mWARNING: Running pip as the 'root' user can result in broken permissions and conflicting behaviour with the system package manager. It is recommended to use a virtual environment instead: https://pip.pypa.io/warnings/venv\u001b[0m\u001b[33m\n",
      "\u001b[0m"
     ]
    }
   ],
   "source": [
    "# Sources: \n",
    "# https://towardsdatascience.com/github-recommender-system-python-c8ff64dc83f4\n",
    "# https://towardsdatascience.com/applied-network-analysis-using-python-25021633a702\n",
    "# https://github.com/kurasaiteja/Github-Recommender-System/blob/master/Git.ipynb\n",
    "\n",
    "!pip install networkx"
   ]
  },
  {
   "cell_type": "code",
   "execution_count": 5,
   "metadata": {},
   "outputs": [],
   "source": [
    "import networkx as nx # https://pypi.org/project/networkx/ https://networkx.org/documentation/stable/tutorial.html\n",
    "import project_example as pe\n",
    "from collections import defaultdict\n"
   ]
  },
  {
   "cell_type": "code",
   "execution_count": 6,
   "metadata": {},
   "outputs": [
    {
     "name": "stdout",
     "output_type": "stream",
     "text": [
      "\n",
      "Basic statistics of the dataset...\n",
      "Total number of events (front page incl.): 2207608\n",
      "Total number of events (without front page): 788931\n",
      "Total number of documents: 20344\n",
      "Sparsity: 3.878%\n",
      "Total number of events (drop duplicates): 679355\n",
      "Sparsity (drop duplicates): 3.339%\n",
      "\n",
      "Describe by user:\n",
      "            counts\n",
      "count  1000.000000\n",
      "mean    679.355000\n",
      "std     333.619737\n",
      "min      59.000000\n",
      "25%     506.750000\n",
      "50%     639.500000\n",
      "75%     797.500000\n",
      "max    7958.000000\n"
     ]
    }
   ],
   "source": [
    "df=pe.load_data(\"active1000\")\n",
    "print(\"\\nBasic statistics of the dataset...\")\n",
    "pe.statistics(df)"
   ]
  },
  {
   "cell_type": "code",
   "execution_count": 7,
   "metadata": {},
   "outputs": [
    {
     "data": {
      "text/html": [
       "<div>\n",
       "<style scoped>\n",
       "    .dataframe tbody tr th:only-of-type {\n",
       "        vertical-align: middle;\n",
       "    }\n",
       "\n",
       "    .dataframe tbody tr th {\n",
       "        vertical-align: top;\n",
       "    }\n",
       "\n",
       "    .dataframe thead th {\n",
       "        text-align: right;\n",
       "    }\n",
       "</style>\n",
       "<table border=\"1\" class=\"dataframe\">\n",
       "  <thead>\n",
       "    <tr style=\"text-align: right;\">\n",
       "      <th></th>\n",
       "      <th>eventId</th>\n",
       "      <th>category</th>\n",
       "      <th>activeTime</th>\n",
       "      <th>title</th>\n",
       "      <th>url</th>\n",
       "      <th>userId</th>\n",
       "      <th>publishtime</th>\n",
       "      <th>time</th>\n",
       "      <th>documentId</th>\n",
       "    </tr>\n",
       "  </thead>\n",
       "  <tbody>\n",
       "    <tr>\n",
       "      <th>532786</th>\n",
       "      <td>1788714434</td>\n",
       "      <td>None</td>\n",
       "      <td>3.0</td>\n",
       "      <td>None</td>\n",
       "      <td>http://adressa.no</td>\n",
       "      <td>cx:10k2wzm1b3jsk2y5ym1utnjo97:2kefzqaxe9jx7</td>\n",
       "      <td>None</td>\n",
       "      <td>1483293370</td>\n",
       "      <td>None</td>\n",
       "    </tr>\n",
       "    <tr>\n",
       "      <th>532788</th>\n",
       "      <td>1500434790</td>\n",
       "      <td>100sport|vintersport</td>\n",
       "      <td>17.0</td>\n",
       "      <td>Norges landslagssjef ville ha russisk leder ut...</td>\n",
       "      <td>http://adressa.no/100sport/langrenn_old/norges...</td>\n",
       "      <td>cx:10k2wzm1b3jsk2y5ym1utnjo97:2kefzqaxe9jx7</td>\n",
       "      <td>2017-01-01T17:01:11.000Z</td>\n",
       "      <td>1483293374</td>\n",
       "      <td>70a19fd7c9f6827feb3eb4f3df95121664491fa7</td>\n",
       "    </tr>\n",
       "    <tr>\n",
       "      <th>532791</th>\n",
       "      <td>208227622</td>\n",
       "      <td>None</td>\n",
       "      <td>3.0</td>\n",
       "      <td>None</td>\n",
       "      <td>http://adressa.no</td>\n",
       "      <td>cx:10k2wzm1b3jsk2y5ym1utnjo97:2kefzqaxe9jx7</td>\n",
       "      <td>None</td>\n",
       "      <td>1483293392</td>\n",
       "      <td>None</td>\n",
       "    </tr>\n",
       "    <tr>\n",
       "      <th>532794</th>\n",
       "      <td>1424389459</td>\n",
       "      <td>None</td>\n",
       "      <td>3.0</td>\n",
       "      <td>Arsenal-spissens spektakulære scoring hylles: ...</td>\n",
       "      <td>http://adressa.no/100sport/fotball/arsenal-spi...</td>\n",
       "      <td>cx:10k2wzm1b3jsk2y5ym1utnjo97:2kefzqaxe9jx7</td>\n",
       "      <td>None</td>\n",
       "      <td>1483293397</td>\n",
       "      <td>49b538a570b59c6fb564da7dfeace13ddd4f26f5</td>\n",
       "    </tr>\n",
       "    <tr>\n",
       "      <th>532796</th>\n",
       "      <td>1893920872</td>\n",
       "      <td>None</td>\n",
       "      <td>5.0</td>\n",
       "      <td>None</td>\n",
       "      <td>http://adressa.no</td>\n",
       "      <td>cx:10k2wzm1b3jsk2y5ym1utnjo97:2kefzqaxe9jx7</td>\n",
       "      <td>None</td>\n",
       "      <td>1483293401</td>\n",
       "      <td>None</td>\n",
       "    </tr>\n",
       "    <tr>\n",
       "      <th>...</th>\n",
       "      <td>...</td>\n",
       "      <td>...</td>\n",
       "      <td>...</td>\n",
       "      <td>...</td>\n",
       "      <td>...</td>\n",
       "      <td>...</td>\n",
       "      <td>...</td>\n",
       "      <td>...</td>\n",
       "      <td>...</td>\n",
       "    </tr>\n",
       "    <tr>\n",
       "      <th>868714</th>\n",
       "      <td>105848760</td>\n",
       "      <td>pluss|okonomi</td>\n",
       "      <td>157.0</td>\n",
       "      <td>Rundt 2000 potensielle krav hindret gjeldsløsn...</td>\n",
       "      <td>http://adressa.no/pluss/okonomi/2017/03/31/run...</td>\n",
       "      <td>cx:ztquyfd3pug92dd4jpqzsvxfw:dixlo02oz5eu</td>\n",
       "      <td>2017-03-31T20:59:31.000Z</td>\n",
       "      <td>1490992822</td>\n",
       "      <td>c83af059757a837dc472d44a0eb3be8a0ad33e59</td>\n",
       "    </tr>\n",
       "    <tr>\n",
       "      <th>868807</th>\n",
       "      <td>1240144606</td>\n",
       "      <td>None</td>\n",
       "      <td>NaN</td>\n",
       "      <td>None</td>\n",
       "      <td>http://adressa.no</td>\n",
       "      <td>cx:ztquyfd3pug92dd4jpqzsvxfw:dixlo02oz5eu</td>\n",
       "      <td>None</td>\n",
       "      <td>1490993114</td>\n",
       "      <td>None</td>\n",
       "    </tr>\n",
       "    <tr>\n",
       "      <th>869922</th>\n",
       "      <td>922427576</td>\n",
       "      <td>None</td>\n",
       "      <td>11.0</td>\n",
       "      <td>None</td>\n",
       "      <td>http://adressa.no</td>\n",
       "      <td>cx:ztquyfd3pug92dd4jpqzsvxfw:dixlo02oz5eu</td>\n",
       "      <td>None</td>\n",
       "      <td>1490995847</td>\n",
       "      <td>None</td>\n",
       "    </tr>\n",
       "    <tr>\n",
       "      <th>869925</th>\n",
       "      <td>1862687892</td>\n",
       "      <td>nyheter|moreromsdal</td>\n",
       "      <td>NaN</td>\n",
       "      <td>16-årig sørtrønder døde etter kollisjon i Rindal</td>\n",
       "      <td>http://adressa.no/nyheter/moreromsdal/2017/03/...</td>\n",
       "      <td>cx:ztquyfd3pug92dd4jpqzsvxfw:dixlo02oz5eu</td>\n",
       "      <td>2017-03-31T22:01:46.000Z</td>\n",
       "      <td>1490995859</td>\n",
       "      <td>4f864db2e88b48315e1b0507bc1ee2b158b956ab</td>\n",
       "    </tr>\n",
       "    <tr>\n",
       "      <th>869933</th>\n",
       "      <td>165805497</td>\n",
       "      <td>None</td>\n",
       "      <td>NaN</td>\n",
       "      <td>- Første gang en politiker etterforskes</td>\n",
       "      <td>http://adressa.no/incoming/2017/03/31/transpar...</td>\n",
       "      <td>cx:ztquyfd3pug92dd4jpqzsvxfw:dixlo02oz5eu</td>\n",
       "      <td>2017-03-31T21:43:55.000Z</td>\n",
       "      <td>1490995875</td>\n",
       "      <td>5238b753c8d91dfbdc72bbdf809a47b6464dd591</td>\n",
       "    </tr>\n",
       "  </tbody>\n",
       "</table>\n",
       "<p>2207608 rows × 9 columns</p>\n",
       "</div>"
      ],
      "text/plain": [
       "           eventId              category  activeTime  \\\n",
       "532786  1788714434                  None         3.0   \n",
       "532788  1500434790  100sport|vintersport        17.0   \n",
       "532791   208227622                  None         3.0   \n",
       "532794  1424389459                  None         3.0   \n",
       "532796  1893920872                  None         5.0   \n",
       "...            ...                   ...         ...   \n",
       "868714   105848760         pluss|okonomi       157.0   \n",
       "868807  1240144606                  None         NaN   \n",
       "869922   922427576                  None        11.0   \n",
       "869925  1862687892   nyheter|moreromsdal         NaN   \n",
       "869933   165805497                  None         NaN   \n",
       "\n",
       "                                                    title  \\\n",
       "532786                                               None   \n",
       "532788  Norges landslagssjef ville ha russisk leder ut...   \n",
       "532791                                               None   \n",
       "532794  Arsenal-spissens spektakulære scoring hylles: ...   \n",
       "532796                                               None   \n",
       "...                                                   ...   \n",
       "868714  Rundt 2000 potensielle krav hindret gjeldsløsn...   \n",
       "868807                                               None   \n",
       "869922                                               None   \n",
       "869925   16-årig sørtrønder døde etter kollisjon i Rindal   \n",
       "869933            - Første gang en politiker etterforskes   \n",
       "\n",
       "                                                      url  \\\n",
       "532786                                  http://adressa.no   \n",
       "532788  http://adressa.no/100sport/langrenn_old/norges...   \n",
       "532791                                  http://adressa.no   \n",
       "532794  http://adressa.no/100sport/fotball/arsenal-spi...   \n",
       "532796                                  http://adressa.no   \n",
       "...                                                   ...   \n",
       "868714  http://adressa.no/pluss/okonomi/2017/03/31/run...   \n",
       "868807                                  http://adressa.no   \n",
       "869922                                  http://adressa.no   \n",
       "869925  http://adressa.no/nyheter/moreromsdal/2017/03/...   \n",
       "869933  http://adressa.no/incoming/2017/03/31/transpar...   \n",
       "\n",
       "                                             userId               publishtime  \\\n",
       "532786  cx:10k2wzm1b3jsk2y5ym1utnjo97:2kefzqaxe9jx7                      None   \n",
       "532788  cx:10k2wzm1b3jsk2y5ym1utnjo97:2kefzqaxe9jx7  2017-01-01T17:01:11.000Z   \n",
       "532791  cx:10k2wzm1b3jsk2y5ym1utnjo97:2kefzqaxe9jx7                      None   \n",
       "532794  cx:10k2wzm1b3jsk2y5ym1utnjo97:2kefzqaxe9jx7                      None   \n",
       "532796  cx:10k2wzm1b3jsk2y5ym1utnjo97:2kefzqaxe9jx7                      None   \n",
       "...                                             ...                       ...   \n",
       "868714    cx:ztquyfd3pug92dd4jpqzsvxfw:dixlo02oz5eu  2017-03-31T20:59:31.000Z   \n",
       "868807    cx:ztquyfd3pug92dd4jpqzsvxfw:dixlo02oz5eu                      None   \n",
       "869922    cx:ztquyfd3pug92dd4jpqzsvxfw:dixlo02oz5eu                      None   \n",
       "869925    cx:ztquyfd3pug92dd4jpqzsvxfw:dixlo02oz5eu  2017-03-31T22:01:46.000Z   \n",
       "869933    cx:ztquyfd3pug92dd4jpqzsvxfw:dixlo02oz5eu  2017-03-31T21:43:55.000Z   \n",
       "\n",
       "              time                                documentId  \n",
       "532786  1483293370                                      None  \n",
       "532788  1483293374  70a19fd7c9f6827feb3eb4f3df95121664491fa7  \n",
       "532791  1483293392                                      None  \n",
       "532794  1483293397  49b538a570b59c6fb564da7dfeace13ddd4f26f5  \n",
       "532796  1483293401                                      None  \n",
       "...            ...                                       ...  \n",
       "868714  1490992822  c83af059757a837dc472d44a0eb3be8a0ad33e59  \n",
       "868807  1490993114                                      None  \n",
       "869922  1490995847                                      None  \n",
       "869925  1490995859  4f864db2e88b48315e1b0507bc1ee2b158b956ab  \n",
       "869933  1490995875  5238b753c8d91dfbdc72bbdf809a47b6464dd591  \n",
       "\n",
       "[2207608 rows x 9 columns]"
      ]
     },
     "execution_count": 7,
     "metadata": {},
     "output_type": "execute_result"
    }
   ],
   "source": [
    "df"
   ]
  },
  {
   "cell_type": "code",
   "execution_count": 8,
   "metadata": {},
   "outputs": [
    {
     "name": "stdout",
     "output_type": "stream",
     "text": [
      "1000\n",
      "20344\n",
      "788931\n"
     ]
    }
   ],
   "source": [
    "users = df[\"userId\"].dropna().unique()\n",
    "print(len(users))\n",
    "articles = df[\"documentId\"].dropna().unique()\n",
    "print(len(articles))\n",
    "reads = df[[\"userId\", \"documentId\"]].dropna()\n",
    "print(len(reads))"
   ]
  },
  {
   "cell_type": "code",
   "execution_count": 9,
   "metadata": {},
   "outputs": [],
   "source": [
    "#Creating a graph.\n",
    "G = nx.Graph()\n",
    "\n",
    "G.add_nodes_from(users, bipartite = 'Users' )\n",
    "\n",
    "G.add_nodes_from(articles, bipartite = 'Articles' )\n",
    "\n",
    "#Adding edges among nodes\n",
    "edges = []\n",
    "for index, row in reads.iterrows():\n",
    "    #print(row['userId'], row['documentId'])\n",
    "    edges.append((row[\"userId\"], row[\"documentId\"]))\n",
    "# edges\n",
    "G.add_edges_from(edges)"
   ]
  },
  {
   "cell_type": "code",
   "execution_count": 10,
   "metadata": {},
   "outputs": [
    {
     "name": "stdout",
     "output_type": "stream",
     "text": [
      "21344\n",
      "679355\n"
     ]
    }
   ],
   "source": [
    "print(len(G.nodes()))\n",
    "print(len(G.edges()))"
   ]
  },
  {
   "cell_type": "code",
   "execution_count": 11,
   "metadata": {},
   "outputs": [
    {
     "name": "stdout",
     "output_type": "stream",
     "text": [
      "280\n"
     ]
    }
   ],
   "source": [
    "def shared_partition_nodes(G, node1, node2):\n",
    "    # Check that the nodes belong to the same partition\n",
    "    assert G.nodes[node1]['bipartite'] == G.nodes[node2]['bipartite']\n",
    "\n",
    "    # Get neighbors of node 1: nbrs1\n",
    "    nbrs1 = G.neighbors(node1)\n",
    "    # Get neighbors of node 2: nbrs2\n",
    "    nbrs2 = G.neighbors(node2)\n",
    "\n",
    "    # Compute the overlap using set intersections\n",
    "    overlap = set(nbrs1).intersection(nbrs2)\n",
    "    return overlap\n",
    "\n",
    "# Print the number of shared repositories between users 'u7909' and 'u2148'\n",
    "print(len(shared_partition_nodes(G, 'cx:i9i5zdr4ns9bm4ky:2by1rj0hmjgy', 'cx:iimz2wwcwxu7d721:2r8odp9zhg5yp')))"
   ]
  },
  {
   "cell_type": "code",
   "execution_count": 12,
   "metadata": {},
   "outputs": [
    {
     "name": "stdout",
     "output_type": "stream",
     "text": [
      "1000\n",
      "20344\n"
     ]
    }
   ],
   "source": [
    "# Define get_nodes_from_partition()\n",
    "def get_nodes_from_partition(G,partition):\n",
    "    # Initialize an empty list for nodes to be returned\n",
    "    nodes = []\n",
    "    # Iterate over each node in the graph G\n",
    "    for n in G.nodes():\n",
    "        # Check that the node belongs to the particular partition\n",
    "        if G.nodes[n]['bipartite'] == partition:\n",
    "            # If so, append it to the list of nodes\n",
    "            nodes.append(n)\n",
    "    return nodes\n",
    "\n",
    "# Print the number of nodes in the 'users' partition\n",
    "print(len(get_nodes_from_partition(G, 'Users')))\n",
    "print(len(get_nodes_from_partition(G, 'Articles')))"
   ]
  },
  {
   "cell_type": "code",
   "execution_count": 13,
   "metadata": {},
   "outputs": [
    {
     "name": "stdout",
     "output_type": "stream",
     "text": [
      "0.032294534014942984\n"
     ]
    }
   ],
   "source": [
    "def user_similarity(G, user1, user2, proj_nodes):\n",
    "    # Check that the nodes belong to the 'users' partition\n",
    "    assert G.nodes[user1]['bipartite'] == 'Users'\n",
    "    assert G.nodes[user2]['bipartite'] == 'Users'\n",
    "\n",
    "    # Get the set of nodes shared between the two users\n",
    "    shared_nodes = shared_partition_nodes(G, user1, user2)\n",
    "\n",
    "    # Return the fraction of nodes in the projects partition\n",
    "    return len(shared_nodes) / len(proj_nodes)\n",
    "\n",
    "# Compute the similarity score between users 'u4560' and 'u1880'\n",
    "project_nodes = get_nodes_from_partition(G, 'Articles')\n",
    "similarity_score = user_similarity(G, 'cx:i9i5zdr4ns9bm4ky:2by1rj0hmjgy', 'cx:ib1vo01vq38f2mqc:20lut6o1pv35i', project_nodes)\n",
    "\n",
    "print(similarity_score)"
   ]
  },
  {
   "cell_type": "code",
   "execution_count": 14,
   "metadata": {},
   "outputs": [
    {
     "name": "stdout",
     "output_type": "stream",
     "text": [
      "['cx:ib1vo01vq38f2mqc:20lut6o1pv35i']\n"
     ]
    }
   ],
   "source": [
    "def most_similar_users(G, user, user_nodes, proj_nodes):\n",
    "    # Data checks\n",
    "    assert G.nodes[user]['bipartite'] == 'Users'\n",
    "\n",
    "    # Get other nodes from user partition\n",
    "    user_nodes = set(user_nodes)\n",
    "    user_nodes.remove(user)\n",
    "\n",
    "    # Create the dictionary: similarities\n",
    "    similarities = defaultdict(list)\n",
    "    for n in user_nodes:\n",
    "        similarity = user_similarity(G, user, n, proj_nodes)\n",
    "        similarities[similarity].append(n)\n",
    "\n",
    "    # Compute maximum similarity score: max_similarity\n",
    "    max_similarity = max(similarities.keys())\n",
    "\n",
    "    # Return list of users that share maximal similarity\n",
    "    return similarities[max_similarity]\n",
    "\n",
    "user_nodes = get_nodes_from_partition(G, 'Users')\n",
    "project_nodes = get_nodes_from_partition(G, 'Articles')\n",
    "\n",
    "print(most_similar_users(G, 'cx:i9i5zdr4ns9bm4ky:2by1rj0hmjgy', user_nodes, project_nodes))"
   ]
  },
  {
   "cell_type": "code",
   "execution_count": 15,
   "metadata": {},
   "outputs": [
    {
     "name": "stdout",
     "output_type": "stream",
     "text": [
      "{'b085b71659a0b691fe8cf7d25a267629a1d3e327', 'caa00adac6fb490860c069e14a044af3bb3f8b76', '053e888fe61b192854e848f8b285114f53e08f9d', '0cbfb4d0936054bddd5b1b2177e93a9dce5bd6de', '134aca17d8e7954f5bc95779e6c865c731700ada', '073ceafc7acf0a3b7479ba257af44b62b6fbf5a5', 'f09ecebee85eee7fd5a3f14a9c4dcb796341f8ff', '0a63ea3fa0e92d8a1a294acd8887a3c99fe48826', '182bdde37d54dbdb6deb4e1472e96aeac604bc66', '91efa7b44782b7fe140e8ffc71676bfa29f1acc2', '3f2757f24f429c7b70325c5749339558dd644a1c', 'bbb92ab6e050e5b71fa213f2271e51f8dc54dd6b', '6eccd6eec73be9007498733bc83716f67cb7198f', 'c47f63e7e6d046709c8222e5baebec3ba19e1ae8', '7ded306a0177c2508799e7a11b89757670be41f6', '223eb071b72e3585093bfd6f4935f901a4d8e052', '675955e11136d4f1bc80bb10b0d5d7fd8481c2b7', '4f17aa740c5795c6cb59059e37bb21b15f914e26', '942346502d9cfa85caf4be3fd94af79c20ff4765', '2c62bb35352f115ef9bca1aed891e476f5e7731f', '7b6f08de1e036fe825fa4f9b11bfa40bc0d54245', '5f01fff720fa19c67de886350dbb5322d1c18cc1', '4d9116666daff22522ea536aeb0971bde24b57b4', 'c7dbdd2364695a506d3cb8ed75bba5676fc15b3c', '631ad7cace31e2a4b45068a6d4a6fd5b18535754', '51215bc4673b43c256fcd085d070c125aad2729b', 'dbeb434fd543015f1c466e326f88b7bb8448bb23', '3dbf5abb483dca5efd1b2b4e3aca2741b237b3fa', '40f675f3430051916ac7bd3060df40235bd0fef6', '0a129915c2523475a232e87eaffd5f4591a26cef', '4ae0c3ed418ae6ce0a5c88350ddf80735e381092', '627ae61dcddcc1cd2214d28b0824b6396e5fd1d6', '9705371053f02ab2abb69cdf884a50e6292e84f3', '8a44f5118d74e6ee765e19644df5c1de0e60ee25', '9f3d9f3471f7761ab727e785968c43c5bb4a98ea', 'b831611c3e0709673ff8567d368586f8661ba889', '2228c8e09bd615b509f87347675f4f0f1b74439e', 'f87e15fb1cf5153d728b5f3c25443e8c58e3af27', 'aea33a5c17396442bad3fee6ea47c1fb64b8b663', 'be7d79c3c219a9a7913c7fb987bf69353d148827', '8b29072654e6e9565190113a60341169506caf9b', '6b9f63c4bbec075f569e6296e653df58ccd8a8b6', '73f6820f464967d07c004a990773ad786788b75c', '8fe6d702cefd9a70d887d90b88c035a7117fd233', '862f9dc4f024f46d2a47852638e5ef367c10c2ed', '6b52b599394ee0c4d92f8b89f880a16aed2e0f97', '1eb1df9384cda7a23035dfbbb75b59c70f2acb10', 'ec34a96c4aafc2d6156894a02b2b7913066ee2e7', 'f235c22d29c7609f1031c928376238f0a813afd8', 'a3421a35a2ff2b986a41ff96bfa47f1e81fe78da', 'e922a7653e2bfe1c4cef6c919ec378033dd4aa34', '122b4dec5b32bcf5ded46298a168d5cf0dc3f0e3', '51d324adca68657a9eaa8969bb64b0f72a4799ae', 'df7bb3125f98be2c44cd1a91c45b8ec6376c896d', 'cc016e04df59f653bc7a09fd92baf08d0e29a95a', 'd941a8dede1dc62de66d4654a43bbe4c1036bba5', '4129f8e336ba71de836bc990ef86ffdf5ca0e8ff', '6ad76809853ceea9d325748eaea1229c2529fbd8', 'eff66282cddd84b499058769bb0ace2453a68118', '2b44f8c808720ecf63b9b80a0e547dc9566dde74', '75bce913200d26fd7668201bbe6d3ead21693863', '1217b19ae6a41b6d58a1bfe0d9aed91c6355ac23', '211c2a5dc3730141ca4c8d7021c7827332b544f2', '7a5f14c43cec21f020211711e684f5226ecbfb3b', '3e4be8590225d74ad20d6cbb8a446d760dfa5077', '7a66db5fafa87125e0fc95ad5c54e195ad775e47', '8338c59bec9c59a1d6bf7922cb74f3b9c23e33fb', 'e2ce0a7e0700a97325979c8babfc1a3e49dec2b1', '2be16e2bd7fedbba25a6da92c95fe63952e0390f', 'ce1de185c80f9a2c0eb8bf5c869ba5daee5c6541', 'd945bcb7a7e88c8cd51176a2a59c382984fca80a', 'dff3471f505424723a63181f46383844011a976f', '4cd7316af078b55bf6aab36202d1ddf1be2780b8', '265d0e347e08d19ab62ffe4eadd0333eaad6e57c', '999eb65e5f248a1d9f9a6dc7816151efbc13c728', 'e8e2fdb43a15cf44be9dfc0148c9ce2a9046facd', '1ea007ca2d1a2abd833c5b222330844207903b5e', 'a0457434a9383dc68637fbc8abcd82d1b1fcee33', '3ddad431b7579963b595556cd7cedae81f0d0af9', '693307777f8360c53d0ca13bb4283d2e0a694225', 'f6254322cd7153eef41ba3a5df361e04758aeb01', '2287c139887b0cec7b999384ad893cb8f5b10215', 'c37434a8a86c08ac478840b76cd3b9b6ee474e1f', '76eba81f7057173ede203973050c579f2fca073c', '979dd8b804b4396b47eb44c4b7ad0fc806d3388f', '71bab10ad3d20e5cdad24b898fddbadc644af347', 'a069cc5ee4f15eadd129da8f413d0128e44b30dd', '4a4855cdd5b61ef69a3042d7e606d12a6d13e861', 'b03d18bb36b8e3eadc03ef165d3d8b3273c5edd6', 'c9436fbef932c41017d9d2e7db35a272050e8ef5', '253f2ace6afbb5d4ce03c03cf6fb6f801a448bd0', 'e0f616f0e00eb82a30511300ba4ab21ca0b576e1', '59b8b0e28edbae5e6d7b909238fdc884f8bb4a9a', '5f70f0195cb5a841b76e1d95f6812d4ac9ffe517', '15d70c43103e0c9c5d989bb9508e4f2203463dfc', '574e757b41ad63360ec70eec4799cdc7af670f0e', 'e9a8deeda6a04df6afb887619a3a1880250aed7a', 'f45bcb3593f2e6c4dea35d9caefdc0f4668f204d', '6ecfd9f4b97149a908843f9aef7955a552c51025', '175e539ab0f1d8a303ade67fa419492f278556a6', '0342773583c7d8e3e9e42ed38d7c59f8655fb29b', '4708d288b96dae17079427d8beceaaf2900c45d8', '283443a48397d20eeacedc913c453f31b0dc3172', '45a4197ef1671be861a45213aca772c089e4e157', '43b01391f247870bdb27a2d6b4183d128d0c150f', '92cf23b4733e4ce19f012cbf2a0db25b0a7dd02f', '9638f2b4cb5d5d46e8477050106e64901194122a', '411a1eaed3f10b453dd8d963fe9bf937d8a82b65', '472781fceeaac750804738f5f969b6296181be5e', 'be6fdf0451d1f7a5d18631f28fb58b1c4bebf160', '38533fd3c3a28b28422e502fe5db4464153effa8', '5f3334f6fa3cebec4fc0e71b935c24ad869e2de3', '37572c3c0e943e8f8152866d4c64658de4ba7098', '86c17f854fd7b14bfcd1abbadb2674e203999193', 'a60915db679df36b20fd9bc29ee82b2d3fc6d71b', 'bae0079e1060130825eb7ad32f9341c07580f037', 'b13025b972e7ddb5e96df73467bae81867313d77', '71e7c18e889b7e19352cfb63a15bd8aa32c51630', '508caf3b16e75742079c22256e9b2c4709e30741', '13f3b2eab00016c9603dd477e4d867529340a60c', '7ce5524877156a1b13b36518cdc147151b4ee443', 'e0e0a5fc5b0b14d0e51b2908f15cdcc1a4743717', '3a9040746ddb8f40d0fce41aa8f612a3aef1917f', 'ab8cd0aafcfee80d596f4d4fccf5ea1083ef26d2', '468bc7f1f368b7d190026802fc14168b2bdd2a3a', '31b3b7a0af7fa5054410efd24b80bf5eb572a11c', '356a94d25d022e2d98f7fbe474d95e07c6299bd6', '1c7eef9786c3bb8e9672691eee45dcdf9c87b27f', '1a2f11a4098bd932aa1f41771a62b8dbf0c5e7a7', '18109e93456184f9ea8cb9f5a407000c829eaafc', '93f335e04bf3b30561ae5d6e3ff1c57af1f3d860', 'a59882089d5434c80bc2ca71e83c17beb9cc3bc0', '0b200d658737e786901515c80fc01e45f1d0892d', 'a02935e654f59566cefa8128600bbf2e4b4a5928', '73e5aa1b92683cc20a8160c7f7d7a455d49e9808', 'baa26159a6c101a1b79d0d4a71127df302e7c9d3', '91f01709d1490371ed695032e5b96b501b0d3392', '6e05af50befddfbfc2701384cd09e5ff7990c789', '1f8820f74479a48363e63bff444c675fd2c01421', '74578862b1c9202de8ae89369542b52c1b2e2f25', '763b7c11e94dc8e6327a05da8b442d1a501cd507', '11b075c8da8695f85b83084b3a5ffa8ffc231188', '99c967ced92fa33ae3a9ce7bce4c77de66559e77', '698113d5fa149ed9db63d99ca2d03049f740bbf2', '5e3619f3d7f08180a4e4054c55398bb2e6b988e9', 'c4379362e52f855a01e014999f120d7372e6f34b', '9da6fa05ff7fa56ff4f048dce6bc6ca7e16fb5e4', '3dff5482629abc65241949362fff497e941d25c9', 'b503ac8a42525d4dc3223b458cd1069a09c4a159', 'a6a48b9ceb8d7bb6489f7d0ccb985ed3dff52b06', '52e9acee5ea47836774d9ef63d00de8c4049ce51', '4d8ab07e79b1cb297e419b4480910b2e6445afbf', '2b2d693745d25445db3f8f3ae4030dc38179db1a', '02fc121a50c971f3497a042f090a41af30aaa9a2', '944e582632d0a8ab524833c80d2475f7e74d4e17', '8ac606b3d891d98d0f295faefea88a4de9c35651', '964f51a4a407d146b4fee44ee5fbb9f79b22e7c9', '1dfa80d27ca1dd09e2802d9123b476d97f9970ed', '7ac47ceffc403c53819b3f3b442df55af218b77a', '53fda5834235d011eeb96435861d4156a88bf0ca', '8298ca8b1121ce00c532a5d62e3d98f626dd929c', '2f86d5b18d341998725c4bab436823340a957aa0', '9df98fa18b1b47423f5a171cd7919d683e50a936', '591f718c7d9cd20169fc86211bf10da2e63fe799', '70154db2b6f6e7cd016adfb27822dbbffb644012', 'bccd9dd200cf52e3ad32652b9f91d164c4125fde', 'f5f73c34a223fce45c51050fe77770e62bd7470e', '2a00c43cf84f7c433431027845505a0fdc77a55d', 'c40a785b02b76ba6afc24ee58bcb8f6b343d963d', '23bb3fe96a2576533266ccf97413d3e375f5cc89', 'f2ce698b3daf00cfcac0d5279053c4da9de07a92', 'b63566d3b4dfd409921f1b6b86a4722ee2e36240', 'd8287ddbb1ab9332d3af6ad157984e59dc7a4c46', '76e163cc48e5886e9559bd705127bb3e33044d3b', 'acf92b55bff2df3a2c3a6cf29ad5bf1f2b10ff7e', 'd7d06ad19c57acc254c14c6391eeb9df630cbf4b', '0bdd23ec2c81e3385ceb5faf9aad253e378ef4f5', 'bc0287e3c5ac9014e896c9d5832718b5edbe4787', 'a91f5e61306dbeaefd32eceaa0789e6680c42287', '30c8e9d91439822ad04f2b1f0050d1c06655d237', '9f3999bd1a1a8d67bcb073ad54840f15cb30f014', '5493aaf7b96c1d1008ea2ad09a7a373da02843dc', 'bd06e58a61eec2d2a2f480ea9a4c74dfd3e93397', 'e1f0d81ed8ccb738db28fdfaa51ad3a6b3fc2b8e', '5135cafe89af6c9b7b2390ac9185a1323e084b4e', '2d50b0e67a9e8d2878e77556664ac41754943613', '8e0f647639b930770cd566177d2779c9cb4bd675', '2a6fa46b28641e3bc1fc72056521496830302f6c', 'ff6eab0817ab6f1995022cbf91a40613e3400357', 'f9549b88b49d378b724ea789cccde371726484bd', '53a31337d4c3de36a36e59a3b365fdd91df646a8', '7ac57aa205e7ee251904842ed948ebddea31ccc3', '8dffb841181556d6bebc7fdc029ca8357d7b6ee3', '78de370a9255b675e925690edab122b271966cff', '23faa02fea5a83a088c87bd0c9bc91e5c5d5f6ff', 'f0e35fca40ef2365b67b9a8635844f9e10efe97a', '7a9ba4a245c064870b2485acca1e4b2490dc2cb8', '9b850c2034b2d74a4421f323c65f0d915a3bdf16', '5220cf8c8aff21bddbc4aaf7d13f686ed15ea923', 'a967cbeb80a580b6ce807f7d84a4ddb0883b2050', '41c4855c31727eec0ca17593e313e1353c652c06', 'd26dae18a47ee499c4aaca4a9b6017f1b5b1da13', '2ca90a4453ef7bf427c978a0d628c61ea35129a5', 'b4a4e8908edf63191ba26ddaa5ad41d1b077676e', 'ecd029cc322cffdc8ae7b40216d085d404861cca', 'd3a15a122996b524fa34eb7c79618040714cc841', '22dd85f572068dc01b86986e9a89115376f93868', 'ff7a61df4aac770c807ac3b096a768df90d87c19', 'c4c950371a6e76e96a4511e77da210a3d8c53356', '45c04564794478b22f7efc67a3b2d9ceefa71c9e', 'ddee7709bcca0049472b72ea492a5a8c6e1e4b7b', '2785897301a9cd5166daff56a2a8f50e06fbdfbc', '8f0429f92ec2af8ddbe2bde5854a065926a4f08e', '9e44a3ee82b9d40bde77a8d2004284d55a42769f', '344f734757ea601c58fe120496b63b05c4e54a60', 'd1d0f675b2f9c81cd85b5fd3a8cc0640851ee173', '57cb5bef55820aba3afa0bdb01f6316a31592223', '92cff589e5e35523aa4aeb676c9f44eaad54a23a', 'b820219f4d3596a571ec4b0434153e32224ed809', 'ab811789b750eb85484a85450136cef6ca9d444d', 'db5078eabb5e6c0edf979102df53b8c8f3ef0064', 'e4f776e1d2519aadf507c2248ff576cb9d56e485', 'd7c078bba0c093327ca8ed49e54d9c887a786117', '7784fe5dc3ebfbdd0ccab8cc0e424afa32df287f', '4793b9f3358d1c5e6b9d39165bd21b364ea51d49', '8b74f5841c217407ad863028eabd9ce8dec1ad12', '016186e8e4bfc383165e5059c6211473d28cfa06', 'cc4574fe085454cf883cffed257c73efe7528905', '4b8d1aa6d9b9b88acf3ab7e31475fad007b2d5c1', 'e46ea76beb7decc5fb56eba32ef5f1303956f15f', 'b9f108383fd9f9addc49db792b0d9df154d65233', 'c26324dfbf987f89b62f710bfbeecfae8f2db38e', '73da9c9dd611d4cc68d7ba1e0d52a58573bb9671', 'd01d6642253360e8fd3529c9b4f4d4b4f240c86e', 'b29050099bb26aede71f0d8ae8764d158286a61e', '5210a21eb478c1d0fb4a5c366c7af9786ff8a3a2', 'aea4dcf673543353fb9f0ff6aff83a56f6b30d79', 'f6ee74f5aaf7c73366438cfd80cac1f5f002136a', '41ce41a5b5c8a22138e7e23d108d0268ff0914af', 'c264ca3aa0f11116f2efce16922c8f2630689e6a', 'c671bc5cf8034a58d975cc9feea83540ed72146b', '15e4c653fa5d49eac00e35130dee14d64282b7b5', 'df12b97a88de69abb35dcada2ab842aee4502b6a', '3726a45c9798bee30c05a8e1076f1dafe9064a89', '7bf5a70aa1bfaec86b0dbcbdb9d6c4c33c566d9c', 'cb57dd9fcd676b564fdb8f40180994040010f211', '23ef1c387d1311b2adc41fab2c579d85a235068b', '9e46723d2345780c03ca1325cbaf4abb251c441e', 'e99012f26d5c89ea5b22d8bb7a9ea0864b766761', '51527b79e75f0a71cee29d0079e41b78ef1a48f5', 'a535a5b9dd38e343901b5a7f0abf3ee7efbdb901', 'd4f51079d14eabc8e25fd60b173964aa6d9748ff', 'ccb8eeabe79bf47962bcb89d99b954135055b4cb', '252307569014ddd67e3996f893e50ef30bd42671', 'ca0bec5db1ef288622167c90e510607ae74f03f1', '711c461184bd3dabb9a590a87edc12afde8c7370', 'efe372eef34bdc71be684c9c702c4ca30a1cb10d', 'd3a698917b691472383393580d4d3673296c82fe', '3f502bbed390ff6df530445509b643af36b651f4', '0210b59396adac7b117cbcf64184d1542aee1821', '1629257d9c70797ba19d4f4e733f3f82dd3a9228', '07f35667d2641b47e68a337be3ce42a5892280aa', '12e93b96b08e9d122193587af21810ff2deb4e2b', '3c45ebde296539dd3b990b67ed8e62014d48213d', 'fc76d270897418e3db364be85633ce73f8ffad8d', 'dc43ba11b6abddb5219b0457da42ee82dfab16ec', '7ad0fa26f004b28b51ef5926bda58ff4d611e3ce', 'cafd3717177f7b79d3331476f4207da656fd31e8', '04fab323e721cfa7b3286d770643cd43aaa75bab', '08af869d6904bf863b62dc092459294c721b88d3', '087e6410c89bd1ac2364c1337638041057f3e707', '494e604f1a529b95b497cf151bc7585e8868417c', '40957f44e1f8a45c9b9677d65eeb155dde44dd2a', '4d1f5e684315ea20b79d88eac2f503ebe5897837', '0b4fc787dd33be9518a67bd4146d69c688281916', '0aff3e348593581a665f295da0b57a4d5ebc15c7', '60a5adfd53e73e44d1fdd9ed07c890879640b2e6', 'd3ffcc7fdee6db493a555cb13df848c7cf47b295', '693966d2ce5a76ab2f25c8def95bdee1f259dd3c', 'de20a2dcf80ace403f0f4669306a9a2433ed31b1', 'eca55e604ae8e8a910cbf8ae9aa7510c85795531', '99ae874b5f0c9e3e1f0f1f40569652689719a27d', '9d4e73397c3a64a2dda6d10eb127a3bf8057b380', '65e32338a1053293043320c14829f352ad27f679', '1e78b84f637a2032210f638c1e0242821f6d2510', '5f5e3a578ed08f13420d225d7603e387b88384a6', '61c44e49005b503ef9c9dc6705bdc3cc1651cf20', 'f5b31d565dc4f089d703622fd3049319014915cc', '5482591b0f934e85088a5da8cde2c887ef25a64d', '7a4d26037ccdc84bfae39cc973c71a7cfb874ac9', '6050bb960533620c66208aebe9600c58aacd1855', 'b63a38917c0746b8cc4291fb095fd15b3969f2a7', 'b16b516eefb647edec256ad2f9b2c7a897b9785b', '00f7e3503795ef0fd7934458523c9fd3f26f99ce', '551d4f52bc9841a9e018aabb6e4d22eab1322ae9', '56b6283b3238ec631be66f4c120290ac666bdc4a', '37bcd74a9f1aafaec15b4e01870c694636076147', '53b7c56acb0b5daabab996517ef4cce4b927bccb', '857da85ddd24ebc30636a9c2c54bf4e3fa575fa0', 'e4c14ed2080dc51dd3e45b9eb5c0d34a3d096345', 'c8064093240e6316deb93fee0ee9a162daae267e', '2e7b9b5e245744f06d7815dec6586d9787e70d11', 'f5638b968e8eefe920657f06fdafc1daee771f50', 'e649420577596b19d15945c38921b47449520d9e'}\n"
     ]
    }
   ],
   "source": [
    "def recommend_repositories(G, from_user, to_user):\n",
    "    # Get the set of repositories that from_user has contributed to\n",
    "    from_articles = set(G.neighbors(from_user))\n",
    "    # Get the set of repositories that to_user has contributed to\n",
    "    to_articles = set(G.neighbors(to_user))\n",
    "\n",
    "    # Identify repositories that the from_user is connected to that the to_user is not connected to\n",
    "    return from_articles.difference(to_articles)\n",
    "\n",
    "# Print the repositories to be recommended\n",
    "print(recommend_repositories(G, 'cx:i9i5zdr4ns9bm4ky:2by1rj0hmjgy', 'cx:ib1vo01vq38f2mqc:20lut6o1pv35i'))"
   ]
  }
 ],
 "metadata": {
  "interpreter": {
   "hash": "31f2aee4e71d21fbe5cf8b01ff0e069b9275f58929596ceb00d14d90e3e16cd6"
  },
  "kernelspec": {
   "display_name": "Python 3.9.2 64-bit",
   "language": "python",
   "name": "python3"
  },
  "language_info": {
   "codemirror_mode": {
    "name": "ipython",
    "version": 3
   },
   "file_extension": ".py",
   "mimetype": "text/x-python",
   "name": "python",
   "nbconvert_exporter": "python",
   "pygments_lexer": "ipython3",
   "version": "3.9.2"
  },
  "orig_nbformat": 4
 },
 "nbformat": 4,
 "nbformat_minor": 2
}
