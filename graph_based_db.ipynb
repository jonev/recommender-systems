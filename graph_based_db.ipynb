{
 "cells": [
  {
   "cell_type": "code",
   "execution_count": 1,
   "metadata": {},
   "outputs": [],
   "source": [
    "# importing needed packages\n",
    "import logging\n",
    "from graph_recommender_system import GraphRecommendationSystem, load_data\n",
    "import pandas as pd\n",
    "import time"
   ]
  },
  {
   "cell_type": "code",
   "execution_count": 2,
   "metadata": {},
   "outputs": [],
   "source": [
    "# Logging settings\n",
    "logging.basicConfig(filename='info.log', level=logging.INFO)\n",
    "# Initialize and connect to database\n",
    "db = GraphRecommendationSystem(\"bolt://localhost:7687\", \"neo4j\", \"\")\n",
    "# NB this will run for ~8 hours"
   ]
  },
  {
   "cell_type": "code",
   "execution_count": 3,
   "metadata": {},
   "outputs": [],
   "source": [
    "total_time = time.time()\n",
    "# Split the data in train and test data\n",
    "(train, test) = db.get_file_paths(\"active1000\", 0.7)\n",
    "# Importing train data from files to database (only need to run once) \n",
    "# db.import_data(\"active1000\", train)  # NB this will run for ~8 hours\n",
    "#logging.info(f\"Import data took: {((time.time() - total_time)/60.0)} minutes\") "
   ]
  },
  {
   "cell_type": "code",
   "execution_count": 4,
   "metadata": {},
   "outputs": [],
   "source": [
    "# Creating dataframes of the data to be used in evaluating the results from the recommendations\n",
    "df_test = load_data(\"active1000\", test)\n",
    "df_train = load_data(\"active1000\", train)"
   ]
  },
  {
   "cell_type": "code",
   "execution_count": 5,
   "metadata": {},
   "outputs": [
    {
     "data": {
      "text/plain": [
       "988"
      ]
     },
     "execution_count": 5,
     "metadata": {},
     "output_type": "execute_result"
    }
   ],
   "source": [
    "# Fetching users to be used in recommendations\n",
    "df_test = df_test[df_test[\"url\"] != \"http://adressa.no\"]\n",
    "user_df = df_test.groupby(['userId']).size().reset_index(name='counts')\n",
    "users = user_df[\"userId\"].tolist()\n",
    "len(users)"
   ]
  },
  {
   "cell_type": "markdown",
   "metadata": {},
   "source": [
    "# Evaluation basics  \n",
    "[Source](https://bond-kirill-alexandrovich.medium.com/precision-and-recall-in-recommender-systems-and-some-metrics-stuff-ca2ad385c5f8)\n",
    "\n",
    "TP = True positives  \n",
    "TN = True negatives  \n",
    "FP = False positives  \n",
    "FN = False negatives  \n",
    "\n",
    "Accuracy = (TP + TN) / (TP+TN+FP+FN)  \n",
    "Precision = TP / (TP + FP)  \n",
    "Recall = TP / (TP+FN)  "
   ]
  },
  {
   "cell_type": "code",
   "execution_count": 6,
   "metadata": {},
   "outputs": [],
   "source": [
    "def print_precision(df_predictions, df_test_data):\n",
    "    test_data = df_test_data[[\"userId\", \"url\"]]\n",
    "    test_data_users_in_predictions = test_data[test_data[\"userId\"].isin(df_predictions[\"userId\"])]\n",
    "    true_positives = test_data_users_in_predictions[test_data_users_in_predictions[\"url\"].isin(predictions[\"url\"])]\n",
    "    print(f\"Evaluation - Precision: \\n\"\\\n",
    "        \"Prediction matched training data (TP) / all predictions (TP+TN): \\n\"\\\n",
    "            f\"{len(true_positives)}/{len(predictions)}=\"\\\n",
    "                        f\"{len(true_positives)/len(predictions)}\")\n",
    "\n"
   ]
  },
  {
   "cell_type": "code",
   "execution_count": 7,
   "metadata": {},
   "outputs": [],
   "source": [
    "def precision(test_data_user, predictions):\n",
    "    if(len(predictions) == 0):\n",
    "        return\n",
    "    user_id = test_data_user[\"userId\"].iloc[0]\n",
    "    true_positives = test_data_user[test_data_user[\"url\"].isin(predictions[\"url\"])]\n",
    "    logging.info(f\"Evaluation - Precision: {user_id}, len: {len(test_data_user)}: \"\\\n",
    "        \"Prediction matched training data (TP) / all predictions (TP+TN): \"\\\n",
    "            f\"{len(true_positives)}/{len(predictions)}=\"\\\n",
    "                        f\"{len(true_positives)/len(predictions)}\")\n",
    "\n",
    "def print_precision_per_user(df_predictions, df_test_data):\n",
    "    test_data = df_test_data[[\"userId\", \"url\"]]\n",
    "    test_data.groupby('userId').apply(lambda user: precision(user, df_predictions[df_predictions[\"userId\"] == user[\"userId\"].iloc[0]]))"
   ]
  },
  {
   "cell_type": "code",
   "execution_count": 8,
   "metadata": {},
   "outputs": [],
   "source": [
    "def print_recall(df_predictions, df_test_data):\n",
    "    test_data = df_test_data[[\"userId\", \"url\"]]\n",
    "    test_data_users_in_predictions = test_data[test_data[\"userId\"].isin(df_predictions[\"userId\"])]\n",
    "    true_positives = test_data_users_in_predictions[test_data_users_in_predictions[\"url\"].isin(predictions[\"url\"])]\n",
    "    print(f\"Evaluation - Recall: \\n\"\\\n",
    "        \"Prediction matched training data (TP) / training data: \\n\"\\\n",
    "            f\"{len(true_positives)}/{len(test_data)}=\"\\\n",
    "                        f\"{len(true_positives)/len(test_data)}\")"
   ]
  },
  {
   "cell_type": "markdown",
   "metadata": {},
   "source": [
    "# Prediction: Predict articles by nearest neighbor and popularity"
   ]
  },
  {
   "cell_type": "code",
   "execution_count": 9,
   "metadata": {},
   "outputs": [],
   "source": [
    "# Predict all users on popularity (uncomment to run)\n",
    "start_time = time.time()\n",
    "#predictions_raw_df = db.predict_on_popularity(users, None) # NB: runs for ~12 hours\n",
    "#predictions_raw_df.to_feather(\"predictions_popularity_all_users_v2.feather\")\n",
    "logging.info(f\"Prediction took: {((time.time() - start_time)/60.0)} minutes, or hours: {((time.time() - start_time)/3600.0)}\")\n"
   ]
  },
  {
   "cell_type": "code",
   "execution_count": 10,
   "metadata": {},
   "outputs": [
    {
     "name": "stdout",
     "output_type": "stream",
     "text": [
      "Evaluation - Precision: \n",
      "Prediction matched training data (TP) / all predictions (TP+TN): \n",
      "65/9880=0.006578947368421052\n",
      "Evaluation - Recall: \n",
      "Prediction matched training data (TP) / training data: \n",
      "65/359377=0.00018086855864454319\n"
     ]
    }
   ],
   "source": [
    "# Evaluating: 10 predictions per user, for all users, on popularity\n",
    "predictions = pd.read_feather(\"predictions_popularity_all_users.feather\")\n",
    "print_precision(predictions, df_test)\n",
    "print_recall(predictions, df_test)\n",
    "print_precision_per_user(predictions, df_test)"
   ]
  },
  {
   "cell_type": "markdown",
   "metadata": {},
   "source": [
    "# Prediction: Finding similar users and recommend their newest read articles"
   ]
  },
  {
   "cell_type": "code",
   "execution_count": 11,
   "metadata": {},
   "outputs": [],
   "source": [
    "# Prediction all users. Finding similar users and recommend their newest read articles\n",
    "start_time = time.time()\n",
    "#predictions = db.predict_on_bestfriends_newest(users)\n",
    "#predictions.to_feather(\"predictions_on_best_friend_all_users_v2.feather\")\n",
    "logging.info(f\"Prediction on bestfriend took: {((time.time() - start_time)/60.0)} minutes, or hours: {((time.time() - start_time)/3600.0)}\")\n",
    "pd.set_option('display.max_colwidth', None)\n"
   ]
  },
  {
   "cell_type": "code",
   "execution_count": 12,
   "metadata": {},
   "outputs": [
    {
     "name": "stdout",
     "output_type": "stream",
     "text": [
      "Evaluation - Precision: \n",
      "Prediction matched training data (TP) / all predictions (TP+TN): \n",
      "3208/9660=0.3320910973084886\n",
      "Evaluation - Recall: \n",
      "Prediction matched training data (TP) / training data: \n",
      "3208/359377=0.008926559017410686\n"
     ]
    }
   ],
   "source": [
    "# Evaluating: Recommender recall, prediction on finding similar users and using the newest read articles from these users\n",
    "predictions = pd.read_feather(\"predictions_on_best_friend_all_users.feather\")\n",
    "print_precision(predictions, df_test)\n",
    "print_recall(predictions, df_test)\n",
    "print_precision_per_user(predictions, df_test)"
   ]
  },
  {
   "cell_type": "code",
   "execution_count": 13,
   "metadata": {},
   "outputs": [
    {
     "data": {
      "text/html": [
       "<div>\n",
       "<style scoped>\n",
       "    .dataframe tbody tr th:only-of-type {\n",
       "        vertical-align: middle;\n",
       "    }\n",
       "\n",
       "    .dataframe tbody tr th {\n",
       "        vertical-align: top;\n",
       "    }\n",
       "\n",
       "    .dataframe thead th {\n",
       "        text-align: right;\n",
       "    }\n",
       "</style>\n",
       "<table border=\"1\" class=\"dataframe\">\n",
       "  <thead>\n",
       "    <tr style=\"text-align: right;\">\n",
       "      <th></th>\n",
       "      <th>userId</th>\n",
       "      <th>url</th>\n",
       "    </tr>\n",
       "  </thead>\n",
       "  <tbody>\n",
       "    <tr>\n",
       "      <th>0</th>\n",
       "      <td>newUser</td>\n",
       "      <td>http://adressa.no/pluss/magasin/2017/01/14/fives-vei-til-banken-14051471.ece</td>\n",
       "    </tr>\n",
       "    <tr>\n",
       "      <th>1</th>\n",
       "      <td>newUser</td>\n",
       "      <td>http://adressa.no/pluss/magasin/2017/02/25/det-%c3%a5ret-vi-sluttet-%c3%a5-se-i-bakken-14308932.ece</td>\n",
       "    </tr>\n",
       "    <tr>\n",
       "      <th>2</th>\n",
       "      <td>newUser</td>\n",
       "      <td>http://adressa.no/pluss/magasin/2016/02/01/trondheim-f%c3%b8r-og-n%c3%a5-del-2-12100990.ece</td>\n",
       "    </tr>\n",
       "    <tr>\n",
       "      <th>3</th>\n",
       "      <td>newUser</td>\n",
       "      <td>http://adressa.no/bolig/boligguiden/trondheim/trondheim-%c3%b8st/bolig1196938.html</td>\n",
       "    </tr>\n",
       "    <tr>\n",
       "      <th>4</th>\n",
       "      <td>newUser</td>\n",
       "      <td>http://adressa.no/pluss/magasin/2017/01/14/fives-vei-til-banken-14051471.ece</td>\n",
       "    </tr>\n",
       "    <tr>\n",
       "      <th>5</th>\n",
       "      <td>newUser</td>\n",
       "      <td>http://adressa.no/nyheter/utenriks/2017/02/12/trump-skryter-av-aksjon-mot-ulovlige-innvandrere-14211432.ece</td>\n",
       "    </tr>\n",
       "    <tr>\n",
       "      <th>6</th>\n",
       "      <td>newUser</td>\n",
       "      <td>http://adressa.no/100sport/sprek/her-ligger-deltagerne-strodd-etter-treningsokten-studie-hevder-tre-minutter-i-uken-kan-vare-nok-228600b.html</td>\n",
       "    </tr>\n",
       "    <tr>\n",
       "      <th>7</th>\n",
       "      <td>newUser</td>\n",
       "      <td>http://adressa.no/pluss/nyheter/2017/02/06/kun-den-som-har-mistet-et-barn-selv-kan-vite-hvor-hjerteskj%c3%a6rende-det-er-14175719.ece</td>\n",
       "    </tr>\n",
       "    <tr>\n",
       "      <th>8</th>\n",
       "      <td>newUser</td>\n",
       "      <td>http://adressa.no/pluss/okonomi/2017/02/11/hun-lokker-nordmenn-til-%c3%a5-satse-store-penger-p%c3%a5-omstridt-nettvaluta-14205262.ece</td>\n",
       "    </tr>\n",
       "    <tr>\n",
       "      <th>9</th>\n",
       "      <td>newUser</td>\n",
       "      <td>http://adressa.no/pluss/magasin/2017/01/16/hvor-i-all-verden...-14066667.ece</td>\n",
       "    </tr>\n",
       "  </tbody>\n",
       "</table>\n",
       "</div>"
      ],
      "text/plain": [
       "    userId  \\\n",
       "0  newUser   \n",
       "1  newUser   \n",
       "2  newUser   \n",
       "3  newUser   \n",
       "4  newUser   \n",
       "5  newUser   \n",
       "6  newUser   \n",
       "7  newUser   \n",
       "8  newUser   \n",
       "9  newUser   \n",
       "\n",
       "                                                                                                                                             url  \n",
       "0                                                                   http://adressa.no/pluss/magasin/2017/01/14/fives-vei-til-banken-14051471.ece  \n",
       "1                                            http://adressa.no/pluss/magasin/2017/02/25/det-%c3%a5ret-vi-sluttet-%c3%a5-se-i-bakken-14308932.ece  \n",
       "2                                                    http://adressa.no/pluss/magasin/2016/02/01/trondheim-f%c3%b8r-og-n%c3%a5-del-2-12100990.ece  \n",
       "3                                                             http://adressa.no/bolig/boligguiden/trondheim/trondheim-%c3%b8st/bolig1196938.html  \n",
       "4                                                                   http://adressa.no/pluss/magasin/2017/01/14/fives-vei-til-banken-14051471.ece  \n",
       "5                                    http://adressa.no/nyheter/utenriks/2017/02/12/trump-skryter-av-aksjon-mot-ulovlige-innvandrere-14211432.ece  \n",
       "6  http://adressa.no/100sport/sprek/her-ligger-deltagerne-strodd-etter-treningsokten-studie-hevder-tre-minutter-i-uken-kan-vare-nok-228600b.html  \n",
       "7          http://adressa.no/pluss/nyheter/2017/02/06/kun-den-som-har-mistet-et-barn-selv-kan-vite-hvor-hjerteskj%c3%a6rende-det-er-14175719.ece  \n",
       "8          http://adressa.no/pluss/okonomi/2017/02/11/hun-lokker-nordmenn-til-%c3%a5-satse-store-penger-p%c3%a5-omstridt-nettvaluta-14205262.ece  \n",
       "9                                                                   http://adressa.no/pluss/magasin/2017/01/16/hvor-i-all-verden...-14066667.ece  "
      ]
     },
     "execution_count": 13,
     "metadata": {},
     "output_type": "execute_result"
    }
   ],
   "source": [
    "# Cold start popularity recommendation\n",
    "user = \"newUser\" # This ID does not exist in the database\n",
    "predictions = db.predict_on_popularity([\"newUser\"])\n",
    "predictions\n"
   ]
  },
  {
   "cell_type": "code",
   "execution_count": 14,
   "metadata": {},
   "outputs": [
    {
     "data": {
      "text/html": [
       "<div>\n",
       "<style scoped>\n",
       "    .dataframe tbody tr th:only-of-type {\n",
       "        vertical-align: middle;\n",
       "    }\n",
       "\n",
       "    .dataframe tbody tr th {\n",
       "        vertical-align: top;\n",
       "    }\n",
       "\n",
       "    .dataframe thead th {\n",
       "        text-align: right;\n",
       "    }\n",
       "</style>\n",
       "<table border=\"1\" class=\"dataframe\">\n",
       "  <thead>\n",
       "    <tr style=\"text-align: right;\">\n",
       "      <th></th>\n",
       "      <th>userId</th>\n",
       "      <th>url</th>\n",
       "    </tr>\n",
       "  </thead>\n",
       "  <tbody>\n",
       "    <tr>\n",
       "      <th>0</th>\n",
       "      <td>newUser</td>\n",
       "      <td>http://adressa.no/nyheter/utenriks/2017/02/12/trump-skryter-av-aksjon-mot-ulovlige-innvandrere-14211432.ece</td>\n",
       "    </tr>\n",
       "    <tr>\n",
       "      <th>1</th>\n",
       "      <td>newUser</td>\n",
       "      <td>http://adressa.no/pluss/okonomi/2017/02/11/hun-lokker-nordmenn-til-%c3%a5-satse-store-penger-p%c3%a5-omstridt-nettvaluta-14205262.ece</td>\n",
       "    </tr>\n",
       "    <tr>\n",
       "      <th>2</th>\n",
       "      <td>newUser</td>\n",
       "      <td>http://adressa.no/pluss/nyheter/2017/02/06/kun-den-som-har-mistet-et-barn-selv-kan-vite-hvor-hjerteskj%c3%a6rende-det-er-14175719.ece</td>\n",
       "    </tr>\n",
       "    <tr>\n",
       "      <th>3</th>\n",
       "      <td>newUser</td>\n",
       "      <td>http://adressa.no/pluss/nyheter/2017/02/06/kun-den-som-har-mistet-et-barn-selv-kan-vite-hvor-hjerteskj%c3%a6rende-det-er-14175719.ece</td>\n",
       "    </tr>\n",
       "    <tr>\n",
       "      <th>4</th>\n",
       "      <td>newUser</td>\n",
       "      <td>http://adressa.no/nyheter/trondheim/2017/01/04/vurderer-%c3%a5-flytte-fra-midtbyen-14005344.ece</td>\n",
       "    </tr>\n",
       "    <tr>\n",
       "      <th>5</th>\n",
       "      <td>newUser</td>\n",
       "      <td>http://adressa.no/pluss/nyheter/2017/02/06/kun-den-som-har-mistet-et-barn-selv-kan-vite-hvor-hjerteskj%c3%a6rende-det-er-14175719.ece</td>\n",
       "    </tr>\n",
       "    <tr>\n",
       "      <th>6</th>\n",
       "      <td>newUser</td>\n",
       "      <td>http://adressa.no/nyheter/nordtrondelag/2017/01/29/n%c3%a5r-det-ufattelige-skjer-deg-14132649.ece</td>\n",
       "    </tr>\n",
       "    <tr>\n",
       "      <th>7</th>\n",
       "      <td>newUser</td>\n",
       "      <td>http://adressa.no/pluss/nyheter/2017/02/06/kun-den-som-har-mistet-et-barn-selv-kan-vite-hvor-hjerteskj%c3%a6rende-det-er-14175719.ece</td>\n",
       "    </tr>\n",
       "    <tr>\n",
       "      <th>8</th>\n",
       "      <td>newUser</td>\n",
       "      <td>http://adressa.no/nyheter/okonomi/2017/02/12/%c3%98lsalget-til-rema-stuper-med-ny-markedsstrategi-14210907.ece</td>\n",
       "    </tr>\n",
       "    <tr>\n",
       "      <th>9</th>\n",
       "      <td>newUser</td>\n",
       "      <td>http://adressa.no/pluss/nyheter/2017/02/27/de-unge-blir-fattigere-og-eldre-rikere-i-norge-14292336.ece</td>\n",
       "    </tr>\n",
       "  </tbody>\n",
       "</table>\n",
       "</div>"
      ],
      "text/plain": [
       "    userId  \\\n",
       "0  newUser   \n",
       "1  newUser   \n",
       "2  newUser   \n",
       "3  newUser   \n",
       "4  newUser   \n",
       "5  newUser   \n",
       "6  newUser   \n",
       "7  newUser   \n",
       "8  newUser   \n",
       "9  newUser   \n",
       "\n",
       "                                                                                                                                     url  \n",
       "0                            http://adressa.no/nyheter/utenriks/2017/02/12/trump-skryter-av-aksjon-mot-ulovlige-innvandrere-14211432.ece  \n",
       "1  http://adressa.no/pluss/okonomi/2017/02/11/hun-lokker-nordmenn-til-%c3%a5-satse-store-penger-p%c3%a5-omstridt-nettvaluta-14205262.ece  \n",
       "2  http://adressa.no/pluss/nyheter/2017/02/06/kun-den-som-har-mistet-et-barn-selv-kan-vite-hvor-hjerteskj%c3%a6rende-det-er-14175719.ece  \n",
       "3  http://adressa.no/pluss/nyheter/2017/02/06/kun-den-som-har-mistet-et-barn-selv-kan-vite-hvor-hjerteskj%c3%a6rende-det-er-14175719.ece  \n",
       "4                                        http://adressa.no/nyheter/trondheim/2017/01/04/vurderer-%c3%a5-flytte-fra-midtbyen-14005344.ece  \n",
       "5  http://adressa.no/pluss/nyheter/2017/02/06/kun-den-som-har-mistet-et-barn-selv-kan-vite-hvor-hjerteskj%c3%a6rende-det-er-14175719.ece  \n",
       "6                                      http://adressa.no/nyheter/nordtrondelag/2017/01/29/n%c3%a5r-det-ufattelige-skjer-deg-14132649.ece  \n",
       "7  http://adressa.no/pluss/nyheter/2017/02/06/kun-den-som-har-mistet-et-barn-selv-kan-vite-hvor-hjerteskj%c3%a6rende-det-er-14175719.ece  \n",
       "8                         http://adressa.no/nyheter/okonomi/2017/02/12/%c3%98lsalget-til-rema-stuper-med-ny-markedsstrategi-14210907.ece  \n",
       "9                                 http://adressa.no/pluss/nyheter/2017/02/27/de-unge-blir-fattigere-og-eldre-rikere-i-norge-14292336.ece  "
      ]
     },
     "execution_count": 14,
     "metadata": {},
     "output_type": "execute_result"
    }
   ],
   "source": [
    "# Cold start popularity recommendation with categories\n",
    "categories = [\"sport\", \"okonomi\", \"nyheter\"] # Simulates a user inputs its preferred categories\n",
    "user = \"newUser\" # This ID does not exist in the database\n",
    "predictions = db.predict_on_popularity([\"newUser\"], categories)\n",
    "predictions"
   ]
  }
 ],
 "metadata": {
  "interpreter": {
   "hash": "949777d72b0d2535278d3dc13498b2535136f6dfe0678499012e853ee9abcab1"
  },
  "kernelspec": {
   "display_name": "Python 3.8.12 64-bit",
   "language": "python",
   "name": "python3"
  },
  "language_info": {
   "codemirror_mode": {
    "name": "ipython",
    "version": 3
   },
   "file_extension": ".py",
   "mimetype": "text/x-python",
   "name": "python",
   "nbconvert_exporter": "python",
   "pygments_lexer": "ipython3",
   "version": "3.8.12"
  },
  "orig_nbformat": 4
 },
 "nbformat": 4,
 "nbformat_minor": 2
}
