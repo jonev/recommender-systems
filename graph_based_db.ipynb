{
 "cells": [
  {
   "cell_type": "code",
   "execution_count": 1,
   "metadata": {},
   "outputs": [],
   "source": [
    "import logging\n",
    "from Db import DbWriter, load_data\n",
    "import pandas as pd\n",
    "import time"
   ]
  },
  {
   "cell_type": "code",
   "execution_count": null,
   "metadata": {},
   "outputs": [],
   "source": [
    "logging.basicConfig(filename='info.log', level=logging.INFO)\n",
    "# NB this will run for ~8 hours\n",
    "db = DbWriter(\"bolt://localhost:7687\", \"neo4j\", \"\")"
   ]
  },
  {
   "cell_type": "code",
   "execution_count": 13,
   "metadata": {},
   "outputs": [],
   "source": [
    "(train, test) = db.get_file_paths(\"active1000\", 0.7)"
   ]
  },
  {
   "cell_type": "code",
   "execution_count": 17,
   "metadata": {},
   "outputs": [],
   "source": [
    "df_test = load_data(\"active1000\", test)\n",
    "df_train = load_data(\"active1000\", train)"
   ]
  },
  {
   "cell_type": "code",
   "execution_count": 4,
   "metadata": {},
   "outputs": [
    {
     "data": {
      "text/plain": [
       "988"
      ]
     },
     "execution_count": 4,
     "metadata": {},
     "output_type": "execute_result"
    }
   ],
   "source": [
    "df_test = df_test[df_test[\"url\"] != \"http://adressa.no\"]\n",
    "user_df = df_test.groupby(['userId']).size().reset_index(name='counts')\n",
    "users = user_df[\"userId\"].tolist()\n",
    "len(users)"
   ]
  },
  {
   "cell_type": "code",
   "execution_count": 5,
   "metadata": {},
   "outputs": [],
   "source": [
    "# Predict all users on popularity\n",
    "start_time = time.time()\n",
    "predictions_raw_df = db.predict_on_popularity(users, None)\n",
    "predictions_raw_df.to_feather(\"predictions_raw_all_users_v2.feather\")\n",
    "logging.info(f\"Prediction took: {((time.time() - start_time)/60.0)} minutes, or hours: {((time.time() - start_time)/3600.0)}\")\n",
    "# NB: Prediction took: 739.2234967947006 minutes, or hours: 12.320391614834467"
   ]
  },
  {
   "cell_type": "code",
   "execution_count": 12,
   "metadata": {},
   "outputs": [
    {
     "name": "stdout",
     "output_type": "stream",
     "text": [
      "Predictions matching test data / all predictions: 0.006578947368421052\n"
     ]
    }
   ],
   "source": [
    "# Recommender precision, 10 predictions per user, for all users, on popularity\n",
    "predictions = pd.read_feather(\"predictions_raw_all_users.feather\")\n",
    "df_test_url = df_test[[\"userId\", \"url\"]]\n",
    "df_test_url = df_test_url[df_test_url[\"userId\"].isin(predictions[\"userId\"])]\n",
    "df_test_url = df_test_url[df_test_url[\"url\"].isin(predictions[\"url\"])]\n",
    "print(f\"Predictions matching test data / all predictions: {len(df_test_url)/len(predictions)}\")\n",
    "# Predictions matching test data / all predictions: 0.006578947368421052"
   ]
  },
  {
   "cell_type": "code",
   "execution_count": 19,
   "metadata": {},
   "outputs": [
    {
     "name": "stdout",
     "output_type": "stream",
     "text": [
      "Prediction matching train data: predictions in test data / train data: 1.6521739130434783\n"
     ]
    }
   ],
   "source": [
    "# Recommender recall, 10 predictions per user, for all users, on popularity\n",
    "predictions = pd.read_feather(\"predictions_raw_all_users.feather\")\n",
    "df_train_url = df_train[[\"userId\", \"url\"]]\n",
    "df_train_url = df_train_url[df_train_url[\"userId\"].isin(predictions[\"userId\"])]\n",
    "df_train_url = df_train_url[df_train_url[\"url\"].isin(predictions[\"url\"])]\n",
    "print(f\"Prediction matching train data: predictions in test data / train data: {len(predictions)/len(df_train_url)}\")"
   ]
  }
 ],
 "metadata": {
  "interpreter": {
   "hash": "949777d72b0d2535278d3dc13498b2535136f6dfe0678499012e853ee9abcab1"
  },
  "kernelspec": {
   "display_name": "Python 3.8.12 64-bit",
   "language": "python",
   "name": "python3"
  },
  "language_info": {
   "codemirror_mode": {
    "name": "ipython",
    "version": 3
   },
   "file_extension": ".py",
   "mimetype": "text/x-python",
   "name": "python",
   "nbconvert_exporter": "python",
   "pygments_lexer": "ipython3",
   "version": "3.8.12"
  },
  "orig_nbformat": 4
 },
 "nbformat": 4,
 "nbformat_minor": 2
}
